{
  "nbformat": 4,
  "nbformat_minor": 0,
  "metadata": {
    "colab": {
      "name": "Iniciando-en-Python-DS.ipynb",
      "provenance": [],
      "authorship_tag": "ABX9TyMcDco4PRUDGaiQrQgfd0d2",
      "include_colab_link": true
    },
    "kernelspec": {
      "name": "python3",
      "display_name": "Python 3"
    },
    "language_info": {
      "name": "python"
    }
  },
  "cells": [
    {
      "cell_type": "markdown",
      "metadata": {
        "id": "view-in-github",
        "colab_type": "text"
      },
      "source": [
        "<a href=\"https://colab.research.google.com/github/openav94/Iniciando-en-Python-DS/blob/master/Iniciando_en_Python_DS.ipynb\" target=\"_parent\"><img src=\"https://colab.research.google.com/assets/colab-badge.svg\" alt=\"Open In Colab\"/></a>"
      ]
    },
    {
      "cell_type": "markdown",
      "source": [
        "#Python para DS"
      ],
      "metadata": {
        "id": "X7uY276ozb14"
      }
    },
    {
      "cell_type": "code",
      "source": [
        "nombre = \"Christaian\""
      ],
      "metadata": {
        "id": "Gn3iEIcpzfPt"
      },
      "execution_count": null,
      "outputs": []
    },
    {
      "cell_type": "code",
      "source": [
        "edad = 28"
      ],
      "metadata": {
        "id": "Srd4G_gQzs8X"
      },
      "execution_count": null,
      "outputs": []
    },
    {
      "cell_type": "markdown",
      "source": [
        "#Mi Primera funcion"
      ],
      "metadata": {
        "id": "C6NYEjPg0P5h"
      }
    },
    {
      "cell_type": "code",
      "source": [
        "print (f\"Mi nombre es {nombre} y tengo {edad} de edad\")"
      ],
      "metadata": {
        "colab": {
          "base_uri": "https://localhost:8080/"
        },
        "id": "zST2USwmz4KP",
        "outputId": "680bc292-f728-4c35-faec-339309a25e96"
      },
      "execution_count": null,
      "outputs": [
        {
          "output_type": "stream",
          "name": "stdout",
          "text": [
            "Mi nombre es Christaian y tengo 28 de edad\n"
          ]
        }
      ]
    },
    {
      "cell_type": "code",
      "source": [
        "def saludar():\n",
        "  nombre = input(\"Digita tu nombre: \")\n",
        "  print(f\"Saludos {nombre}, espero y estes bien\")\n",
        "\n",
        "saludar()"
      ],
      "metadata": {
        "colab": {
          "base_uri": "https://localhost:8080/"
        },
        "id": "EEkhvX5B0oqo",
        "outputId": "e64d48b3-2930-4b1d-a294-02e83594a63f"
      },
      "execution_count": null,
      "outputs": [
        {
          "output_type": "stream",
          "name": "stdout",
          "text": [
            "Digita tu nombre: Misael\n",
            "Saludos Misael, espero y estes bien\n"
          ]
        }
      ]
    },
    {
      "cell_type": "code",
      "source": [
        "saludar()"
      ],
      "metadata": {
        "colab": {
          "base_uri": "https://localhost:8080/"
        },
        "id": "bIOw51aE3e0K",
        "outputId": "1de80a06-f240-4d98-cdc7-0eeb63c974d5"
      },
      "execution_count": null,
      "outputs": [
        {
          "output_type": "stream",
          "name": "stdout",
          "text": [
            "Digita tu nombre: Oscar\n",
            "Saludos Oscar, espero y estes bien\n"
          ]
        }
      ]
    },
    {
      "cell_type": "markdown",
      "source": [
        "#Parametros"
      ],
      "metadata": {
        "id": "YywLPZg2EF14"
      }
    },
    {
      "cell_type": "code",
      "source": [
        "nombre = \"Ramona\"\n",
        "\n",
        "def saludar_parametros(nombre):\n",
        "  print(f\"Hola {nombre} eres bienvenid@!!!\")"
      ],
      "metadata": {
        "id": "LKdSmunX4wKG"
      },
      "execution_count": null,
      "outputs": []
    },
    {
      "cell_type": "code",
      "source": [
        "saludar_parametros(nombre)"
      ],
      "metadata": {
        "colab": {
          "base_uri": "https://localhost:8080/"
        },
        "id": "oV1YNBQGD-IW",
        "outputId": "acc3e6e9-5f15-4c80-f6ea-3beb9d2c072b"
      },
      "execution_count": null,
      "outputs": [
        {
          "output_type": "stream",
          "name": "stdout",
          "text": [
            "Hola Ramona eres bienvenid@!!!\n"
          ]
        }
      ]
    },
    {
      "cell_type": "markdown",
      "source": [
        "#Condicionales"
      ],
      "metadata": {
        "id": "kr1i1Wv-E0bW"
      }
    },
    {
      "cell_type": "code",
      "source": [
        "edad = 15\n",
        "\n",
        "def verificar_edad (edad):\n",
        "  if edad >=  18:\n",
        "    print(\"Usted tiene la edad suficiente para conducir\")\n",
        "  else: \n",
        "    print(\"Para poder conducir requieres tener minimo 18 años\")\n",
        "\n",
        "verificar_edad(edad)"
      ],
      "metadata": {
        "colab": {
          "base_uri": "https://localhost:8080/"
        },
        "id": "gSxZdDT4E2F7",
        "outputId": "428e8178-f048-4fa6-9de8-e61a89bd4188"
      },
      "execution_count": null,
      "outputs": [
        {
          "output_type": "stream",
          "name": "stdout",
          "text": [
            "Para poder conducir requieres tener minimo 18 años\n"
          ]
        }
      ]
    },
    {
      "cell_type": "code",
      "source": [
        "def verificar_edad_sin_parametros():\n",
        "  edad = input(\"Digita tu edad: \")\n",
        "  edad = int(edad)\n",
        "  if edad >= 18:\n",
        "    print (\"Tienes edad para conducir\")\n",
        "  else:\n",
        "    print (\"No tienes edad suficientos para conducir\")\n",
        "\n",
        "verificar_edad_sin_parametros()"
      ],
      "metadata": {
        "colab": {
          "base_uri": "https://localhost:8080/"
        },
        "id": "wCPMPaPTHkfs",
        "outputId": "8a4b18c2-5370-4a2e-860d-83a3d362e2ed"
      },
      "execution_count": null,
      "outputs": [
        {
          "output_type": "stream",
          "name": "stdout",
          "text": [
            "Digita tu edad: 45\n",
            "Tienes edad para conducir\n"
          ]
        }
      ]
    },
    {
      "cell_type": "code",
      "source": [
        ""
      ],
      "metadata": {
        "id": "28cVmxSFI8Gq"
      },
      "execution_count": null,
      "outputs": []
    }
  ]
}